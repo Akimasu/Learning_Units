{
 "cells": [
  {
   "cell_type": "markdown",
   "id": "c2f5870b-8634-4e48-a678-437537bd57ec",
   "metadata": {
    "tags": []
   },
   "source": [
    "# Fairness"
   ]
  },
  {
   "cell_type": "markdown",
   "id": "8469d614-c47d-4243-98ed-3c7c29400369",
   "metadata": {},
   "source": [
    "## Instructions\n",
    "\n",
    "1. Go to \"Run\" > \"Run All Cells\" to import all packages and set up the quizzes\n",
    "2. Have Fun!\n",
    "----"
   ]
  },
  {
   "cell_type": "code",
   "execution_count": null,
   "id": "ba49e4c2-4f40-4c39-906a-ae23e697d199",
   "metadata": {
    "jupyter": {
     "source_hidden": true
    },
    "tags": []
   },
   "outputs": [],
   "source": [
    "%%capture \n",
    "# to hide output, tool: ipython-extensions\n",
    "# Load the extension\n",
    "\n",
    "# import\n",
    "from ipywidgets import TwoByTwoLayout\n",
    "from jupyterquiz import display_quiz \n",
    "from jupytercards import display_flashcards\n",
    "import ipywidgets as widgets\n",
    "import md2json\n",
    "import pandas as pd\n",
    "import json\n",
    "from IPython.display import HTML\n",
    "import random\n",
    "import numpy as np\n",
    "import matplotlib.pyplot as plt\n",
    "plt.ion()\n",
    "import import_ipynb\n",
    "\n",
    "from cols import color_dict"
   ]
  },
  {
   "cell_type": "markdown",
   "id": "979407a6-a7d3-4528-902f-76f93d4bd5b1",
   "metadata": {
    "tags": []
   },
   "source": [
    "## Unit"
   ]
  },
  {
   "cell_type": "markdown",
   "id": "e7ceeee8-7b24-4181-995d-f4b5fa611584",
   "metadata": {},
   "source": [
    "If I would ask you **\"What is Fairness\"**? You probably think of many things like unfair education opportunities. What could you be studying right now, if you had a lot of money to spare? Or you may think of your or your friends privilege, if you are living in a resourceful country.\n",
    "\n",
    "Actually, Fairness is not easy to be defined and differs depending on the topic we are talking about. But one definition in particular is interesting when we talk about Data Science:"
   ]
  },
  {
   "cell_type": "markdown",
   "id": "6ad94204-ce84-4d9e-845d-13502ac5dc22",
   "metadata": {},
   "source": [
    "\n",
    "<div class=\"alert alert-block alert-success\">\n",
    "“In the context of decision-making, fairness is the ______ of any prejudice or favoritism toward an\n",
    "individual or a group based on their inherent or acquired characteristics. Thus, an ______ algorithm is one whose decisions are skewed toward a particular group of people.” -  \n",
    "    <a href=\"https://dl.acm.org/doi/abs/10.1145/3457607\">Mehrabi et al.,2021</a>\n",
    "</div>"
   ]
  },
  {
   "cell_type": "markdown",
   "id": "b40694dd-7e1a-464e-81ee-edd08102af9d",
   "metadata": {},
   "source": [
    "You see, some words are missing. Click on the words below, which should be filled in:"
   ]
  },
  {
   "cell_type": "code",
   "execution_count": null,
   "id": "11cb11e4-96fa-4337-a4cc-5a861e8724a7",
   "metadata": {
    "jupyter": {
     "source_hidden": true
    },
    "tags": []
   },
   "outputs": [],
   "source": [
    "#Activate this cell: \n",
    "\n",
    "with open('21_Quizzes/q2.json') as f: data = json.load(f)\n",
    "display_quiz(data, border_radius=10, colors = color_dict)"
   ]
  },
  {
   "cell_type": "markdown",
   "id": "4d761120-892b-40ee-9e52-d38cc53864b1",
   "metadata": {},
   "source": [
    "But is it that important all the time? Would it be enough to just be really cautious and calculate the risk for important decisions before using AI tools to help us?\n",
    "\n",
    "Go through our cards and before clicking on each one, think for yourself. \n",
    "Does fairness matter here? And, do I have to care about it?"
   ]
  },
  {
   "cell_type": "code",
   "execution_count": null,
   "id": "92194ee7-2a76-47af-a804-42cbac1f3f9e",
   "metadata": {
    "jupyter": {
     "source_hidden": true
    },
    "tags": []
   },
   "outputs": [],
   "source": [
    "#Activate this cell: \n",
    "\n",
    "with open('21_Quizzes/q5.json') as f: data = json.load(f)\n",
    "display_flashcards(data)"
   ]
  },
  {
   "cell_type": "markdown",
   "id": "4d509a45-f99c-40c0-8eef-47f972d23cc7",
   "metadata": {},
   "source": [
    "# Read further"
   ]
  },
  {
   "cell_type": "markdown",
   "id": "3215f394-1ec2-4d34-9650-a7762392f7ac",
   "metadata": {},
   "source": [
    "1. The secret bias hidden in mortgage-approval algorithms: https://apnews.com/article/lifestyle-technology-business-race-and-ethnicity-mortgages-2d3d40d5751f933a88c1e17063657586\n",
    "2. A Survey on Bias and Fairness in Machine Learning: https://scholar.google.com/scholar_url?url=https://dl.acm.org/doi/abs/10.1145/3457607&hl=en&sa=T&oi=gsb&ct=res&cd=0&d=10847217828384774171&ei=_dVfZfy-LerBy9YPtoy_iA8&scisig=AFWwaeYhb0F3EFqjq_Jnhr-e8Ykq\n"
   ]
  }
 ],
 "metadata": {
  "kernelspec": {
   "display_name": "Python 3 (ipykernel)",
   "language": "python",
   "name": "python3"
  },
  "language_info": {
   "codemirror_mode": {
    "name": "ipython",
    "version": 3
   },
   "file_extension": ".py",
   "mimetype": "text/x-python",
   "name": "python",
   "nbconvert_exporter": "python",
   "pygments_lexer": "ipython3",
   "version": "3.9.13"
  }
 },
 "nbformat": 4,
 "nbformat_minor": 5
}
